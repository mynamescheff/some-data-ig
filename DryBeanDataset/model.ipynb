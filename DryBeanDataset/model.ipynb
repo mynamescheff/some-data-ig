{
 "cells": [
  {
   "cell_type": "code",
   "execution_count": null,
   "metadata": {},
   "outputs": [],
   "source": [
    "\n",
    "import pandas as pd\n",
    "import numpy as np\n",
    "import os\n",
    "import sys\n",
    "import csv\n",
    "import re\n",
    "import math\n",
    "import random\n",
    "import matplotlib.pyplot as plt\n",
    "from sklearn import preprocessing\n",
    "from sklearn.model_selection import train_test_split\n",
    "from sklearn.metrics import accuracy_score\n",
    "from sklearn.metrics import confusion_matrix\n",
    "\n",
    "#convert Dry_Beans_Dataset.xlsx to csv from Dry_Beans_Dataset sheet\n",
    "def convert_to_csv():\n",
    "    data_xls = pd.read_excel('Dry_Beans_Dataset.xlsx', 'Dry_Beans_Dataset', index_col=None)\n",
    "    data_xls.to_csv('Dry_Beans_Dataset.csv', encoding='utf-8', index=False)\n",
    "\n",
    "#read csv file\n",
    "df = pd.read_csv('Dry_Beans_Dataset.csv')"
   ]
  }
 ],
 "metadata": {
  "language_info": {
   "name": "python"
  }
 },
 "nbformat": 4,
 "nbformat_minor": 2
}
